{
 "cells": [
  {
   "cell_type": "code",
   "execution_count": 388,
   "id": "0b110015-7bee-4f5d-9424-4c4be1f45398",
   "metadata": {},
   "outputs": [],
   "source": [
    "import pandas as pd\n",
    "import numpy as np\n",
    "import seaborn as sns\n",
    "import matplotlib.pyplot as plt\n"
   ]
  },
  {
   "cell_type": "code",
   "execution_count": 389,
   "id": "5387f3dc-0b8b-4cef-be3f-ebb7d9fa4426",
   "metadata": {},
   "outputs": [],
   "source": [
    "%matplotlib inline"
   ]
  },
  {
   "cell_type": "code",
   "execution_count": 390,
   "id": "ce06c95a-9568-482e-b750-5b8fea4687d2",
   "metadata": {},
   "outputs": [],
   "source": [
    "sns.set(style=\"whitegrid\")"
   ]
  },
  {
   "cell_type": "code",
   "execution_count": null,
   "id": "b8d81b72-714b-4c9e-98b6-dd0869ab243e",
   "metadata": {},
   "outputs": [],
   "source": [
    "df = pd.read_csv(\"C:/Users/varsh/Downloads/owid-covid-data.csv\")\n"
   ]
  },
  {
   "cell_type": "code",
   "execution_count": null,
   "id": "ed6dc4d0-5d9a-47a1-947b-dc0ed90ebbde",
   "metadata": {},
   "outputs": [],
   "source": [
    "df.head()"
   ]
  },
  {
   "cell_type": "code",
   "execution_count": null,
   "id": "46054ffb-2ef7-4e79-b5f7-da7dc5f68124",
   "metadata": {},
   "outputs": [],
   "source": [
    "df.head()"
   ]
  },
  {
   "cell_type": "code",
   "execution_count": null,
   "id": "8d856d7e-7f93-4c01-aec4-23d0abad53aa",
   "metadata": {},
   "outputs": [],
   "source": [
    "df.info()"
   ]
  },
  {
   "cell_type": "code",
   "execution_count": null,
   "id": "5a980625-863e-4c33-86c4-8dc555f37fd3",
   "metadata": {},
   "outputs": [],
   "source": [
    "df.count(columns)\n",
    "\n"
   ]
  },
  {
   "cell_type": "code",
   "execution_count": null,
   "id": "611998b4-cd34-4cfc-8021-e8b1b37e0796",
   "metadata": {},
   "outputs": [],
   "source": [
    "df = df[['location', 'date', 'total_cases', 'total_deaths', 'population',\n",
    "         'people_fully_vaccinated', 'gdp_per_capita']]\n"
   ]
  },
  {
   "cell_type": "code",
   "execution_count": null,
   "id": "db70b06d-ab0a-4474-a9b2-bddfb5958f9a",
   "metadata": {},
   "outputs": [],
   "source": [
    "df.info()"
   ]
  },
  {
   "cell_type": "code",
   "execution_count": null,
   "id": "32829f70-7030-4a65-847c-90e77e537cd1",
   "metadata": {},
   "outputs": [],
   "source": [
    "len(df)\n"
   ]
  },
  {
   "cell_type": "code",
   "execution_count": null,
   "id": "22ceaf6c-e18e-4c3e-ab99-4e801d7a19b6",
   "metadata": {},
   "outputs": [],
   "source": [
    "df['date'] = pd.to_datetime(df['date'])\n"
   ]
  },
  {
   "cell_type": "code",
   "execution_count": null,
   "id": "ac450954-91cf-4c6d-b7d0-4defee919f11",
   "metadata": {},
   "outputs": [],
   "source": [
    "df.head(10)"
   ]
  },
  {
   "cell_type": "code",
   "execution_count": null,
   "id": "54718486-6999-4bbd-b7bd-64cd431cf279",
   "metadata": {},
   "outputs": [],
   "source": [
    "df = df[df['total_deaths'].notnull()]\n",
    "df = df[df['total_cases'].notnull()]\n"
   ]
  },
  {
   "cell_type": "code",
   "execution_count": null,
   "id": "8de982c8-b1f9-4918-aed9-a6749ab12a51",
   "metadata": {},
   "outputs": [],
   "source": [
    "len(df)"
   ]
  },
  {
   "cell_type": "code",
   "execution_count": null,
   "id": "937d78e6-d7a6-4d51-9e70-f8b694728203",
   "metadata": {},
   "outputs": [],
   "source": [
    "df.head()"
   ]
  },
  {
   "cell_type": "code",
   "execution_count": null,
   "id": "44cf0dce-5181-428b-b51a-903d90f1f46f",
   "metadata": {},
   "outputs": [],
   "source": [
    "df_latest = df_latest.drop(columns='date')\n",
    "\n"
   ]
  },
  {
   "cell_type": "code",
   "execution_count": null,
   "id": "b0407ea0-8f4c-4584-a304-3a35637578cb",
   "metadata": {},
   "outputs": [],
   "source": [
    "df = df[['location', 'date', 'total_cases', 'total_deaths', 'population',\n",
    "         'people_fully_vaccinated', 'gdp_per_capita']]\n"
   ]
  },
  {
   "cell_type": "code",
   "execution_count": null,
   "id": "78ef29cc-95bd-4cf6-8527-de06a0d1007e",
   "metadata": {},
   "outputs": [],
   "source": [
    "df.info()"
   ]
  },
  {
   "cell_type": "code",
   "execution_count": null,
   "id": "e5ade5e2-a1f8-4e48-9380-27ce0f68ced8",
   "metadata": {},
   "outputs": [],
   "source": [
    "import pandas as pd\n",
    "\n",
    "df = pd.read_csv(\"C:/Users/varsh/Downloads/owid-covid-data.csv\")\n"
   ]
  },
  {
   "cell_type": "code",
   "execution_count": null,
   "id": "c784c3cf-55f4-403d-96cf-f094351cf8af",
   "metadata": {},
   "outputs": [],
   "source": [
    "df = df[['location', 'date', 'total_cases', 'total_deaths', 'population',\n",
    "         'people_fully_vaccinated', 'gdp_per_capita']]\n"
   ]
  },
  {
   "cell_type": "code",
   "execution_count": null,
   "id": "75d1ef8e-1a0d-404c-8d3a-c50c30c46f2f",
   "metadata": {},
   "outputs": [],
   "source": [
    "df.columns"
   ]
  },
  {
   "cell_type": "code",
   "execution_count": null,
   "id": "270081d9-7620-499f-a384-23b80f9e0928",
   "metadata": {},
   "outputs": [],
   "source": [
    "continents = ['World', 'Africa', 'Asia', 'Europe', 'European Union', \n",
    "              'International', 'North America', 'Oceania', 'South America']\n"
   ]
  },
  {
   "cell_type": "code",
   "execution_count": null,
   "id": "c06852ea-b9c6-4c13-9454-a2a29e3d2649",
   "metadata": {},
   "outputs": [],
   "source": [
    "df = df[~df['location'].isin(continents)]\n"
   ]
  },
  {
   "cell_type": "code",
   "execution_count": null,
   "id": "8ad4710a-5c6d-4ea5-a6c7-4c32a6e0ad16",
   "metadata": {},
   "outputs": [],
   "source": [
    "len(df)"
   ]
  },
  {
   "cell_type": "code",
   "execution_count": null,
   "id": "cc90828f-f74d-4998-875e-5ff09d88a427",
   "metadata": {},
   "outputs": [],
   "source": [
    "df.head()"
   ]
  },
  {
   "cell_type": "code",
   "execution_count": null,
   "id": "36466c97-aac3-4f14-bce0-670ff9a6dd49",
   "metadata": {},
   "outputs": [],
   "source": [
    "df['date'] = pd.to_datetime(df['date'])\n",
    "\n"
   ]
  },
  {
   "cell_type": "code",
   "execution_count": null,
   "id": "2c64995f-2e91-47be-8292-aa2ae638d743",
   "metadata": {},
   "outputs": [],
   "source": [
    "df.tail()"
   ]
  },
  {
   "cell_type": "code",
   "execution_count": null,
   "id": "f8caebcd-44be-4e43-a903-682ba1ba10bd",
   "metadata": {},
   "outputs": [],
   "source": [
    "df.head()"
   ]
  },
  {
   "cell_type": "code",
   "execution_count": null,
   "id": "38146f99-3ba3-44e9-83f9-a75b9548f191",
   "metadata": {},
   "outputs": [],
   "source": [
    "latest_df = df_sorted.groupby('location').tail(1)\n"
   ]
  },
  {
   "cell_type": "code",
   "execution_count": null,
   "id": "d32c3b73-ddad-467c-a7a8-f091a73ca764",
   "metadata": {},
   "outputs": [],
   "source": [
    "df_sorted=df.sort_values(\"date\")"
   ]
  },
  {
   "cell_type": "code",
   "execution_count": null,
   "id": "71cb9314-a835-4572-90e5-6f11490c28d8",
   "metadata": {},
   "outputs": [],
   "source": [
    "latest_df=df_sorted.groupby(\"location\").tail(1)"
   ]
  },
  {
   "cell_type": "code",
   "execution_count": null,
   "id": "23fc6e75-075e-4d84-af84-ea8cf530fa24",
   "metadata": {},
   "outputs": [],
   "source": [
    "df.tail()"
   ]
  },
  {
   "cell_type": "code",
   "execution_count": null,
   "id": "120e649e-fd41-4e12-a80c-102d4c815bf8",
   "metadata": {},
   "outputs": [],
   "source": [
    "df_sorted = df.sort_values('date', ascending=False)\n"
   ]
  },
  {
   "cell_type": "code",
   "execution_count": null,
   "id": "b85eb4b9-1c32-4136-8271-918745cfcae6",
   "metadata": {},
   "outputs": [],
   "source": [
    "latest_df = df_sorted.drop_duplicates(subset='location', keep='first')\n"
   ]
  },
  {
   "cell_type": "code",
   "execution_count": null,
   "id": "f82f5513-3152-4410-b7f9-e10467704572",
   "metadata": {},
   "outputs": [],
   "source": [
    "df.head()"
   ]
  },
  {
   "cell_type": "code",
   "execution_count": null,
   "id": "26e6426b-6610-4e1a-8a47-68e71d7890f3",
   "metadata": {},
   "outputs": [],
   "source": [
    "df.tail()\n"
   ]
  },
  {
   "cell_type": "code",
   "execution_count": null,
   "id": "a0017e52-d9de-4016-928c-e7e6c16ee8cc",
   "metadata": {},
   "outputs": [],
   "source": [
    "df['date'] = pd.to_datetime(df['date'])\n"
   ]
  },
  {
   "cell_type": "code",
   "execution_count": null,
   "id": "00ced056-4a9c-439d-9394-4c06903fb9a8",
   "metadata": {},
   "outputs": [],
   "source": [
    "df['date'] = pd.to_datetime(df['date'])\n"
   ]
  },
  {
   "cell_type": "code",
   "execution_count": null,
   "id": "828d62bd-9c69-442e-b4e2-53b6ceb17bb4",
   "metadata": {},
   "outputs": [],
   "source": [
    "\n",
    "df_sorted = df.sort_values(['location', 'date'], ascending=[True, False])\n"
   ]
  },
  {
   "cell_type": "code",
   "execution_count": null,
   "id": "09365a81-e1bc-438a-a9de-97acf94bc4db",
   "metadata": {},
   "outputs": [],
   "source": [
    "latest_df = df_sorted.groupby('location', as_index=False).first()\n"
   ]
  },
  {
   "cell_type": "code",
   "execution_count": null,
   "id": "b452e080-84cb-4dd0-aa42-edc34cb9ae05",
   "metadata": {},
   "outputs": [],
   "source": [
    "print(latest_df['location'].value_counts())\n"
   ]
  },
  {
   "cell_type": "code",
   "execution_count": null,
   "id": "f167b3f1-af33-4e6c-9432-bbc7d1cc44f7",
   "metadata": {},
   "outputs": [],
   "source": [
    "len(df)"
   ]
  },
  {
   "cell_type": "code",
   "execution_count": null,
   "id": "f3d3c133-831a-4e05-b4ff-90897989053c",
   "metadata": {},
   "outputs": [],
   "source": [
    "len(latest_df)"
   ]
  },
  {
   "cell_type": "code",
   "execution_count": null,
   "id": "64ce3404-960f-4675-995d-77a88b379720",
   "metadata": {},
   "outputs": [],
   "source": [
    "df=latest_df"
   ]
  },
  {
   "cell_type": "code",
   "execution_count": null,
   "id": "37def8b4-ae02-413c-8bde-dfb0f317c13c",
   "metadata": {},
   "outputs": [],
   "source": [
    "df.columns"
   ]
  },
  {
   "cell_type": "code",
   "execution_count": null,
   "id": "64304138-7b95-4cec-8b5f-9d3c798b3487",
   "metadata": {},
   "outputs": [],
   "source": [
    "df.tail()"
   ]
  },
  {
   "cell_type": "code",
   "execution_count": null,
   "id": "b3623093-17b1-4010-8fde-6cb920a89f41",
   "metadata": {},
   "outputs": [],
   "source": [
    "top_deaths=df.sort_values(by=\"total_deaths\",ascending=False)"
   ]
  },
  {
   "cell_type": "code",
   "execution_count": null,
   "id": "0ebae937-a59c-4201-b233-45c346a6d6d2",
   "metadata": {},
   "outputs": [],
   "source": [
    "top_deaths.head()\n"
   ]
  },
  {
   "cell_type": "code",
   "execution_count": null,
   "id": "9c8389bb-6ca5-4e27-ae03-bcaec7e942a6",
   "metadata": {},
   "outputs": [],
   "source": [
    "df.tails()"
   ]
  },
  {
   "cell_type": "code",
   "execution_count": null,
   "id": "7d30f882-c97f-4a23-8b74-636a77e7d547",
   "metadata": {},
   "outputs": [],
   "source": [
    "df.tail()"
   ]
  },
  {
   "cell_type": "code",
   "execution_count": null,
   "id": "0320802c-6e4e-495f-9749-a98ab81e5cf1",
   "metadata": {},
   "outputs": [],
   "source": [
    "unwanted = ['World', 'Africa', 'Asia', 'Europe', 'European Union', \n",
    "            'International', 'North America', 'South America', \n",
    "            'High income', 'Low income', 'Upper middle income', 'Lower middle income']"
   ]
  },
  {
   "cell_type": "code",
   "execution_count": null,
   "id": "d7ff5dc7-023b-4dc9-b84f-aa78342e0039",
   "metadata": {},
   "outputs": [],
   "source": [
    "df_cleaned=df[~df[\"location\"].isin(unwanted)]"
   ]
  },
  {
   "cell_type": "code",
   "execution_count": null,
   "id": "7e538813-8913-43b0-8522-eb85d91749b7",
   "metadata": {},
   "outputs": [],
   "source": [
    "df_cleaned.head()"
   ]
  },
  {
   "cell_type": "code",
   "execution_count": null,
   "id": "afe50698-b43b-4654-b7e3-839f13a312f4",
   "metadata": {},
   "outputs": [],
   "source": [
    "df=df_cleaned"
   ]
  },
  {
   "cell_type": "code",
   "execution_count": null,
   "id": "42a1ac76-7c9f-4ddb-81b8-97795b027fc4",
   "metadata": {},
   "outputs": [],
   "source": [
    "len(df)"
   ]
  },
  {
   "cell_type": "code",
   "execution_count": null,
   "id": "8df9b1a7-18f2-45a1-a885-5cd4123b7cf8",
   "metadata": {},
   "outputs": [],
   "source": [
    "df.tail()"
   ]
  },
  {
   "cell_type": "code",
   "execution_count": null,
   "id": "b5d9f537-d202-4fa0-9bf4-bd07ca04a80a",
   "metadata": {},
   "outputs": [],
   "source": [
    "TOP_50=df.sort_values(by=\"total_deaths\",ascending=False).head(50)"
   ]
  },
  {
   "cell_type": "code",
   "execution_count": null,
   "id": "8c0118f6-e89a-4c8d-b07e-549e04df44d3",
   "metadata": {},
   "outputs": [],
   "source": [
    "unwanted=[\"High-income countries\",\"Upper-middle-income countries\",\"European Union (27)\",\"Lower-middle-income countries\",\"Low-income countries\"]\n"
   ]
  },
  {
   "cell_type": "code",
   "execution_count": null,
   "id": "cb846f1d-eddb-4b74-9505-7a10f4f67be0",
   "metadata": {},
   "outputs": [],
   "source": [
    "df=df_cleaned"
   ]
  },
  {
   "cell_type": "code",
   "execution_count": null,
   "id": "f233415c-985b-44bd-bac3-6697ac8e0ddd",
   "metadata": {},
   "outputs": [],
   "source": [
    "df=TOP_50"
   ]
  },
  {
   "cell_type": "code",
   "execution_count": null,
   "id": "a7afe059-6112-4728-82f2-223c2b192eb9",
   "metadata": {},
   "outputs": [],
   "source": [
    "df_cleaned=df[~df[\"location\"].isin(unwanted)]"
   ]
  },
  {
   "cell_type": "raw",
   "id": "d7078241-ba15-41b5-950f-10e06a7fcc81",
   "metadata": {},
   "source": [
    "df_cleaned.tail()"
   ]
  },
  {
   "cell_type": "code",
   "execution_count": null,
   "id": "1ed47a2b-32ba-460d-9145-8b8e19adf086",
   "metadata": {},
   "outputs": [],
   "source": [
    "df_cleaned.head(50)"
   ]
  },
  {
   "cell_type": "code",
   "execution_count": null,
   "id": "0dffc5ea-d100-42c0-8c73-b751cba1e788",
   "metadata": {},
   "outputs": [],
   "source": [
    "rows=df.shape[0]"
   ]
  },
  {
   "cell_type": "code",
   "execution_count": null,
   "id": "ab73a6b7-e0cd-4e2a-8fc2-f2bdb4f3ab88",
   "metadata": {},
   "outputs": [],
   "source": [
    "rows"
   ]
  },
  {
   "cell_type": "code",
   "execution_count": null,
   "id": "c3d8002d-1312-47b1-8d8c-9c3c3937d4d9",
   "metadata": {},
   "outputs": [],
   "source": [
    "rows=df.shape"
   ]
  },
  {
   "cell_type": "code",
   "execution_count": null,
   "id": "85c5a270-9316-4ea6-a731-1ee58da2467a",
   "metadata": {},
   "outputs": [],
   "source": [
    "rows\n"
   ]
  },
  {
   "cell_type": "code",
   "execution_count": null,
   "id": "30a67aa9-afba-4d05-aa9c-974b64e62c97",
   "metadata": {},
   "outputs": [],
   "source": [
    "column=df.shape[1]"
   ]
  },
  {
   "cell_type": "code",
   "execution_count": null,
   "id": "4fee06f3-357f-47d4-8a3d-74328ab4698c",
   "metadata": {},
   "outputs": [],
   "source": [
    "column"
   ]
  },
  {
   "cell_type": "code",
   "execution_count": null,
   "id": "6331277e-380a-4a72-a60d-03cbc48fba07",
   "metadata": {},
   "outputs": [],
   "source": [
    "df=df.reset_index(drop=True)"
   ]
  },
  {
   "cell_type": "code",
   "execution_count": null,
   "id": "8efc1627-774f-4ddd-967c-8edaa37d79f1",
   "metadata": {},
   "outputs": [],
   "source": [
    "df.head()"
   ]
  },
  {
   "cell_type": "code",
   "execution_count": null,
   "id": "eb8c8e28-b24e-494a-bf25-ed9ccb4096b4",
   "metadata": {},
   "outputs": [],
   "source": [
    "df.head(50)"
   ]
  },
  {
   "cell_type": "code",
   "execution_count": null,
   "id": "b3ccea23-23f8-468c-812e-276d8a7e82b1",
   "metadata": {},
   "outputs": [],
   "source": [
    "unwanted=[\"Low-income countries\",\t\"Lower-middle-income countries\",\"European Union (27)\",\"\tUpper-middle-income countries\",\"High-income countries\"]"
   ]
  },
  {
   "cell_type": "code",
   "execution_count": null,
   "id": "dc2211a4-6946-40e6-aa53-a18eea01c4d9",
   "metadata": {},
   "outputs": [],
   "source": [
    "cleaned=df[~df[\"location\"].isin(unwanted)]"
   ]
  },
  {
   "cell_type": "code",
   "execution_count": null,
   "id": "8b0418ca-5dde-43d1-8f5c-e29d0bebea8f",
   "metadata": {},
   "outputs": [],
   "source": [
    "cleaned.head(55)"
   ]
  },
  {
   "cell_type": "code",
   "execution_count": null,
   "id": "07a4e3ed-5c90-4f18-8af6-c64e3a4f9fe9",
   "metadata": {},
   "outputs": [],
   "source": [
    "df=cleaned\n"
   ]
  },
  {
   "cell_type": "code",
   "execution_count": null,
   "id": "b16c0282-4bb9-49d5-913a-bfb909c68db8",
   "metadata": {},
   "outputs": [],
   "source": [
    "df.reset_index(drop=True)"
   ]
  },
  {
   "cell_type": "code",
   "execution_count": null,
   "id": "540ad872-dee5-49e8-8fb0-ddf24263a06b",
   "metadata": {},
   "outputs": [],
   "source": [
    "pd.options.display.float_format = '{:.0f}'.format\n"
   ]
  },
  {
   "cell_type": "code",
   "execution_count": null,
   "id": "cc4b502a-fa21-41b6-8470-d5607b85ed4a",
   "metadata": {},
   "outputs": [],
   "source": [
    "df.head(50)"
   ]
  },
  {
   "cell_type": "code",
   "execution_count": null,
   "id": "0aa0c21a-f379-46b1-909a-0658dbed3864",
   "metadata": {},
   "outputs": [],
   "source": [
    "df=df.dropna(subset=[\"gdp_per_capita\"])"
   ]
  },
  {
   "cell_type": "code",
   "execution_count": null,
   "id": "3f093c7a-2b90-4a64-9cd1-49d4d043f6a4",
   "metadata": {},
   "outputs": [],
   "source": [
    "df.head(50)"
   ]
  },
  {
   "cell_type": "code",
   "execution_count": null,
   "id": "1a8acaae-0ac2-48e9-b492-456539d21562",
   "metadata": {},
   "outputs": [],
   "source": [
    "df.reset_index(drop=True)"
   ]
  },
  {
   "cell_type": "code",
   "execution_count": null,
   "id": "f1d099f7-2e84-490a-bad7-ea7faad6f667",
   "metadata": {},
   "outputs": [],
   "source": [
    "df=range(1,df+1)"
   ]
  },
  {
   "cell_type": "code",
   "execution_count": null,
   "id": "4e540e95-f86e-4b7b-babc-270cd0e76eb6",
   "metadata": {},
   "outputs": [],
   "source": [
    "df.index=range(1,len(df)+1)"
   ]
  },
  {
   "cell_type": "code",
   "execution_count": null,
   "id": "449dd684-b0af-4794-98cb-96026a181d22",
   "metadata": {},
   "outputs": [],
   "source": [
    "df.head(46)"
   ]
  },
  {
   "cell_type": "code",
   "execution_count": null,
   "id": "19a0e9bb-76a1-49ff-9afb-d193e7408197",
   "metadata": {},
   "outputs": [],
   "source": [
    "import matplotlib.pyplot as plt\n"
   ]
  },
  {
   "cell_type": "code",
   "execution_count": null,
   "id": "1e54d2ab-ce9c-4577-86b8-b67d36c1de28",
   "metadata": {},
   "outputs": [],
   "source": [
    "top_10=df.head(10)\n"
   ]
  },
  {
   "cell_type": "code",
   "execution_count": null,
   "id": "97bb834e-49aa-4b9e-9ad3-4abc329cb2fa",
   "metadata": {},
   "outputs": [],
   "source": [
    "plt.figure(figsize=(13,5))\n",
    "plt.xlabel(\"country\",fontsize=18)\n",
    "plt.ylabel(\"TOTAL DEATHS\",fontsize=14)\n",
    "plt.title(\"TOP 10 COUNTRIES BY TOTAL COVID-19 DEATHS\",fontsize=20)\n",
    "plt.ticklabel_format(style=\"plain\",axis='y')\n",
    "\n",
    "plt.bar(top_10['location'],top_10['total_deaths'],color=\"red\")\n",
    "plt.show()"
   ]
  },
  {
   "cell_type": "code",
   "execution_count": null,
   "id": "03f1d114-bf5a-4f37-bbbb-a68c8adec078",
   "metadata": {},
   "outputs": [],
   "source": [
    "df.head(50)"
   ]
  },
  {
   "cell_type": "code",
   "execution_count": null,
   "id": "8f29884d-b447-410e-ad23-d21282965abc",
   "metadata": {},
   "outputs": [],
   "source": [
    "df.head(10)"
   ]
  },
  {
   "cell_type": "code",
   "execution_count": null,
   "id": "8128e077-96de-4352-8942-560313459b35",
   "metadata": {},
   "outputs": [],
   "source": [
    "df=df.head(10)"
   ]
  },
  {
   "cell_type": "code",
   "execution_count": null,
   "id": "230521e2-2a47-40b2-ba7c-a63e9000bd69",
   "metadata": {},
   "outputs": [],
   "source": [
    "df"
   ]
  },
  {
   "cell_type": "code",
   "execution_count": null,
   "id": "32c66b1d-f88c-45ad-9ee0-9e547956299e",
   "metadata": {},
   "outputs": [],
   "source": [
    "sort=df.sort_values(by=\"population\")"
   ]
  },
  {
   "cell_type": "raw",
   "id": "c5ab0d30-aef9-444d-a763-767637f878ee",
   "metadata": {},
   "source": [
    "sort"
   ]
  },
  {
   "cell_type": "code",
   "execution_count": null,
   "id": "76960a7a-6ba1-4996-b242-02ae2f55619c",
   "metadata": {},
   "outputs": [],
   "source": [
    "sort.head()"
   ]
  },
  {
   "cell_type": "code",
   "execution_count": null,
   "id": "83895615-6a88-4a41-998b-7fea952f45e3",
   "metadata": {},
   "outputs": [],
   "source": [
    "df=sort"
   ]
  },
  {
   "cell_type": "code",
   "execution_count": null,
   "id": "b621d814-1c4c-42eb-ab5e-399df082f206",
   "metadata": {},
   "outputs": [],
   "source": [
    "df.index=range(1,len(df)+1)\n",
    "\n"
   ]
  },
  {
   "cell_type": "code",
   "execution_count": null,
   "id": "168199e5-b875-4f88-91a3-9b57d66a1fa0",
   "metadata": {},
   "outputs": [],
   "source": [
    "df"
   ]
  },
  {
   "cell_type": "code",
   "execution_count": 439,
   "id": "08b7c337-78c9-45d4-87f6-c5466d629cc5",
   "metadata": {},
   "outputs": [
    {
     "data": {
      "image/png": "[encoded data removed]",
      "text/plain": [
       "<Figure size 1300x500 with 1 Axes>"
      ]
     },
     "metadata": {},
     "output_type": "display_data"
    }
   ],
   "source": [
    "plt.figure(figsize=(13,5))\n",
    "for i,value in  enumerate(df[\"total_deaths\"]):\n",
    "                          plt.text(i,value+1000,f'{int(value):,}',\n",
    "                                   ha=\"center\",va='bottom')\n",
    "plt.xlabel(\"country\",fontsize=18)\n",
    "plt.ylabel(\"TOTAL DEATHS\",fontsize=14)\n",
    "plt.title(\"TOP 10 COUNTRIES BY TOTAL COVID-19 DEATHS\",fontsize=20)\n",
    "plt.ticklabel_format(style=\"plain\",axis='y')\n",
    "\n",
    "plt.bar(df['location'],df['total_deaths'],color=\"red\")\n",
    "plt.show()"
   ]
  },
  {
   "cell_type": "code",
   "execution_count": 441,
   "id": "1ae9571b-3090-465b-b83d-8662cc77b8aa",
   "metadata": {},
   "outputs": [
    {
     "data": {
      "image/png": "[encoded data removed]",
      "text/plain": [
       "<Figure size 2500x2000 with 1 Axes>"
      ]
     },
     "metadata": {},
     "output_type": "display_data"
    }
   ],
   "source": [
    "plt.figure(figsize=(25,20))\n",
    "plt.scatter(df[\"population\"],df[\"total_deaths\"],color=\"blue\",alpha=0.6)\n",
    "plt.xlabel(\"POPULATION\",fontsize=29)\n",
    "# plt.xscale(\"log\")\n",
    "for index,row in df.iterrows():\n",
    "    \n",
    "    plt.text(row[\"population\"],row[\"total_deaths\"],row['location'],ha='left',alpha=0.9,fontsize=25)\n",
    "plt.ylabel(\"DEATHS\",fontsize=28)\n",
    "plt.xticks(fontsize=20)\n",
    "plt.yticks(fontsize=20)\n",
    "\n",
    "plt.ticklabel_format(style=\"plain\",axis='both',)\n",
    "plt.grid(True)\n",
    "plt.show()\n"
   ]
  },
  {
   "cell_type": "code",
   "execution_count": null,
   "id": "057f6dc4-df32-4bd3-8cfc-64b2c406ad2b",
   "metadata": {},
   "outputs": [],
   "source": []
  },
  {
   "cell_type": "code",
   "execution_count": null,
   "id": "a6e66a38-a93b-4925-9530-56e5eff73c6b",
   "metadata": {},
   "outputs": [],
   "source": []
  }
 ],
 "metadata": {
  "kernelspec": {
   "display_name": "Python [conda env:base] *",
   "language": "python",
   "name": "conda-base-py"
  },
  "language_info": {
   "codemirror_mode": {
    "name": "ipython",
    "version": 3
   },
   "file_extension": ".py",
   "mimetype": "text/x-python",
   "name": "python",
   "nbconvert_exporter": "python",
   "pygments_lexer": "ipython3",
   "version": "3.12.7"
  }
 },
 "nbformat": 4,
 "nbformat_minor": 5
}
